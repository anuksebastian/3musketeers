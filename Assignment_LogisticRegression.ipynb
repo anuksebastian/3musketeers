{
 "cells": [
  {
   "attachments": {},
   "cell_type": "markdown",
   "metadata": {
    "scrolled": true
   },
   "source": [
    "# Assignment 4: Logistic Regression\n",
    "## Team: 3musketeers\n",
    "### Student Names:\n",
    "\n",
    "- Anu Sebastian - 012496276\n",
    "- Ravali Nagabandi - 011530454\n",
    "- Saloni Sharad Bhalerao - 012466623\n",
    "\n",
    "### Github: https://github.com/anuksebastian/3musketeers\n",
    "\n",
    "### Team Contribution:\n",
    "- Analyzing Attribute data - Anu\n",
    "- Data Preperation - Saloni\n",
    "- Attempt to use Linear Regresion for Classification - Anu, Ravali and Saloni\n",
    "  -  Predicting a Continuous Response\n",
    "- Predicting a Categorical Response - Anu, Ravali and Saloni\n",
    "- Use Logistic Regression instead - Anu, Ravali and Saloni\n",
    "- Use Sigmoid function to classify - Ravali\n",
    "\n",
    "### Business Objective:\n",
    "To analyze the dataset for forest fires and to predict forest fires based on temperature and area values by using Logistic Regression.\n"
   ]
  },
  {
   "cell_type": "code",
   "execution_count": 1,
   "metadata": {},
   "outputs": [
    {
     "data": {
      "text/html": [
       "<div>\n",
       "<style scoped>\n",
       "    .dataframe tbody tr th:only-of-type {\n",
       "        vertical-align: middle;\n",
       "    }\n",
       "\n",
       "    .dataframe tbody tr th {\n",
       "        vertical-align: top;\n",
       "    }\n",
       "\n",
       "    .dataframe thead th {\n",
       "        text-align: right;\n",
       "    }\n",
       "</style>\n",
       "<table border=\"1\" class=\"dataframe\">\n",
       "  <thead>\n",
       "    <tr style=\"text-align: right;\">\n",
       "      <th></th>\n",
       "      <th>X</th>\n",
       "      <th>Y</th>\n",
       "      <th>month</th>\n",
       "      <th>day</th>\n",
       "      <th>FFMC</th>\n",
       "      <th>DMC</th>\n",
       "      <th>DC</th>\n",
       "      <th>ISI</th>\n",
       "      <th>temp</th>\n",
       "      <th>RH</th>\n",
       "      <th>wind</th>\n",
       "      <th>rain</th>\n",
       "      <th>area</th>\n",
       "      <th>category</th>\n",
       "    </tr>\n",
       "  </thead>\n",
       "  <tbody>\n",
       "    <tr>\n",
       "      <th>280</th>\n",
       "      <td>4</td>\n",
       "      <td>6</td>\n",
       "      <td>dec</td>\n",
       "      <td>fri</td>\n",
       "      <td>84.7</td>\n",
       "      <td>26.7</td>\n",
       "      <td>352.6</td>\n",
       "      <td>4.1</td>\n",
       "      <td>2.2</td>\n",
       "      <td>59</td>\n",
       "      <td>4.9</td>\n",
       "      <td>0.0</td>\n",
       "      <td>9.27</td>\n",
       "      <td>0</td>\n",
       "    </tr>\n",
       "    <tr>\n",
       "      <th>282</th>\n",
       "      <td>6</td>\n",
       "      <td>3</td>\n",
       "      <td>feb</td>\n",
       "      <td>sun</td>\n",
       "      <td>84.9</td>\n",
       "      <td>27.5</td>\n",
       "      <td>353.5</td>\n",
       "      <td>3.4</td>\n",
       "      <td>4.2</td>\n",
       "      <td>51</td>\n",
       "      <td>4.0</td>\n",
       "      <td>0.0</td>\n",
       "      <td>0.00</td>\n",
       "      <td>0</td>\n",
       "    </tr>\n",
       "    <tr>\n",
       "      <th>279</th>\n",
       "      <td>4</td>\n",
       "      <td>4</td>\n",
       "      <td>dec</td>\n",
       "      <td>mon</td>\n",
       "      <td>85.4</td>\n",
       "      <td>25.4</td>\n",
       "      <td>349.7</td>\n",
       "      <td>2.6</td>\n",
       "      <td>4.6</td>\n",
       "      <td>21</td>\n",
       "      <td>8.5</td>\n",
       "      <td>0.0</td>\n",
       "      <td>9.77</td>\n",
       "      <td>0</td>\n",
       "    </tr>\n",
       "    <tr>\n",
       "      <th>278</th>\n",
       "      <td>4</td>\n",
       "      <td>4</td>\n",
       "      <td>dec</td>\n",
       "      <td>mon</td>\n",
       "      <td>85.4</td>\n",
       "      <td>25.4</td>\n",
       "      <td>349.7</td>\n",
       "      <td>2.6</td>\n",
       "      <td>4.6</td>\n",
       "      <td>21</td>\n",
       "      <td>8.5</td>\n",
       "      <td>0.0</td>\n",
       "      <td>22.03</td>\n",
       "      <td>1</td>\n",
       "    </tr>\n",
       "    <tr>\n",
       "      <th>277</th>\n",
       "      <td>3</td>\n",
       "      <td>4</td>\n",
       "      <td>dec</td>\n",
       "      <td>mon</td>\n",
       "      <td>85.4</td>\n",
       "      <td>25.4</td>\n",
       "      <td>349.7</td>\n",
       "      <td>2.6</td>\n",
       "      <td>4.6</td>\n",
       "      <td>21</td>\n",
       "      <td>8.5</td>\n",
       "      <td>0.0</td>\n",
       "      <td>10.73</td>\n",
       "      <td>1</td>\n",
       "    </tr>\n",
       "  </tbody>\n",
       "</table>\n",
       "</div>"
      ],
      "text/plain": [
       "     X  Y month  day  FFMC   DMC     DC  ISI  temp  RH  wind  rain   area  \\\n",
       "280  4  6   dec  fri  84.7  26.7  352.6  4.1   2.2  59   4.9   0.0   9.27   \n",
       "282  6  3   feb  sun  84.9  27.5  353.5  3.4   4.2  51   4.0   0.0   0.00   \n",
       "279  4  4   dec  mon  85.4  25.4  349.7  2.6   4.6  21   8.5   0.0   9.77   \n",
       "278  4  4   dec  mon  85.4  25.4  349.7  2.6   4.6  21   8.5   0.0  22.03   \n",
       "277  3  4   dec  mon  85.4  25.4  349.7  2.6   4.6  21   8.5   0.0  10.73   \n",
       "\n",
       "     category  \n",
       "280         0  \n",
       "282         0  \n",
       "279         0  \n",
       "278         1  \n",
       "277         1  "
      ]
     },
     "execution_count": 1,
     "metadata": {},
     "output_type": "execute_result"
    }
   ],
   "source": [
    "# forestfire identification dataset\n",
    "import pandas as pd\n",
    "col_names = ['X','Y','month','day','FFMC','DMC','DC','ISI','temp','RH','wind','rain','area','category']\n",
    "fire = pd.read_csv('/Users/ravalinagabandi/Desktop/sjsu/Sem III/Machine Learning/Foresr Fires/forestfires_0918.csv')\n",
    "fire.sort_values('temp', inplace=True)\n",
    "fire.head()"
   ]
  },
  {
   "cell_type": "markdown",
   "metadata": {},
   "source": [
    "### Data Enrichment\n",
    "We have added additional column named as “category” and we have populated this column by grouping area values into five categories. \n"
   ]
  },
  {
   "cell_type": "code",
   "execution_count": 2,
   "metadata": {},
   "outputs": [
    {
     "name": "stdout",
     "output_type": "stream",
     "text": [
      "     X  Y month  day  FFMC   DMC     DC  ISI  temp  RH  wind  rain   area  \\\n",
      "280  4  6   dec  fri  84.7  26.7  352.6  4.1   2.2  59   4.9   0.0   9.27   \n",
      "282  6  3   feb  sun  84.9  27.5  353.5  3.4   4.2  51   4.0   0.0   0.00   \n",
      "279  4  4   dec  mon  85.4  25.4  349.7  2.6   4.6  21   8.5   0.0   9.77   \n",
      "278  4  4   dec  mon  85.4  25.4  349.7  2.6   4.6  21   8.5   0.0  22.03   \n",
      "277  3  4   dec  mon  85.4  25.4  349.7  2.6   4.6  21   8.5   0.0  10.73   \n",
      "\n",
      "     category  \n",
      "280         0  \n",
      "282         0  \n",
      "279         0  \n",
      "278         1  \n",
      "277         1  \n"
     ]
    }
   ],
   "source": [
    "print(fire.head())"
   ]
  },
  {
   "attachments": {},
   "cell_type": "markdown",
   "metadata": {},
   "source": [
    "### Data Wrangling and Preparation\n",
    "Studied the different dimensions in the dataset and visualized using scatterplot and Line of Best Fit. We have converted day and month data from strings to numeric values. As part of categorizing/classifying \"area\" we have used area_pred, category and category_pred. We are dividing the \"area\" into 5 categories and using Logistic Regression, we are predicting the probability of fire in a given area for 'X' value of temperature."
   ]
  },
  {
   "cell_type": "code",
   "execution_count": 3,
   "metadata": {},
   "outputs": [],
   "source": [
    "fires_attributes = fire.columns.values.tolist()\n",
    "number_of_columns = len(fires_attributes)\n",
    "# Data preperation - Convert month and day from string values to numerical values\n",
    "months_table = ['jan', 'feb', 'mar', 'apr', 'may', 'jun', \n",
    "                'jul', 'aug', 'sep', 'oct', 'nov', 'dec']\n",
    "days_table =   ['sun', 'mon', 'tue', 'wed', 'thu', 'fri', 'sat']\n",
    "\n",
    "fire['month'] = [months_table.index(month) for month in fire['month'] ]\n",
    "fire['day'] =   [days_table.index(day)     for day   in fire['day']   ]\n",
    "\n",
    "fire['X'] -= 1\n",
    "fire['Y'] -= 2\n",
    "\n",
    "fire.head()\n",
    "# Excluding row headers\n",
    "for idx in list(range(4, number_of_columns - 1)):  \n",
    "    fire[fires_attributes[idx]] = fire[fires_attributes[idx]] - \\\n",
    "                                   fire[fires_attributes[idx]].mean()"
   ]
  },
  {
   "cell_type": "code",
   "execution_count": 5,
   "metadata": {},
   "outputs": [
    {
     "name": "stdout",
     "output_type": "stream",
     "text": [
      "     X  Y  month  day       FFMC        DMC          DC        ISI       temp  \\\n",
      "280  3  4     11    5  -5.944681  -84.17234 -195.340039  -4.921663 -16.689168   \n",
      "282  5  1      1    0  -5.744681  -83.37234 -194.440039  -5.621663 -14.689168   \n",
      "279  3  2     11    1  -5.244681  -85.47234 -198.240039  -6.421663 -14.289168   \n",
      "278  3  2     11    1  -5.244681  -85.47234 -198.240039  -6.421663 -14.289168   \n",
      "277  2  2     11    1  -5.244681  -85.47234 -198.240039  -6.421663 -14.289168   \n",
      "276  3  2     11    1  -5.244681  -85.47234 -198.240039  -6.421663 -14.289168   \n",
      "465  1  0      1    6 -11.144681 -107.27234 -532.640039  -7.221663 -14.289168   \n",
      "463  5  3      1    2 -15.544681 -106.47234 -531.740039  -7.121663 -14.289168   \n",
      "273  3  4     11    0  -6.244681  -83.67234 -194.440039  -2.221663 -14.089168   \n",
      "211  6  2      7    6   2.855319   28.52766   46.259961  11.278337 -13.789168   \n",
      "464  5  2      1    2 -15.544681 -106.47234 -531.740039  -7.121663 -13.789168   \n",
      "274  7  4     11    3  -6.644681  -83.07234 -193.340039  -3.721663 -13.789168   \n",
      "275  3  4     11    4  -6.044681  -84.47234 -195.940039  -7.021663 -13.789168   \n",
      "281  5  3     11    2  -5.244681  -85.47234 -198.240039  -6.421663 -13.789168   \n",
      "379  3  3      0    0 -71.944681 -109.77234 -376.540039  -9.021663 -13.689168   \n",
      "165  5  3      2    4  -5.744681  -92.67234 -492.940039  -6.021663 -13.589168   \n",
      "394  5  3      1    1  -6.544681 -106.27234 -501.240039  -6.821663 -13.589168   \n",
      "104  1  2      0    6  -8.544681 -107.17234 -538.640039  -6.121663 -13.589168   \n",
      "61   1  0      2    0  -1.344681  -59.57234 -445.740039   0.578337 -13.389168   \n",
      "176  5  3      3    4  -9.144681 -101.77234 -492.740039  -6.321663 -13.089168   \n",
      "196  5  3      3    4  -9.144681 -101.77234 -492.740039  -6.321663 -13.089168   \n",
      "75   8  7      1    4  -6.444681 -104.07234 -521.340039  -1.321663 -12.189168   \n",
      "390  6  2      1    1  -5.944681 -101.37234 -489.640039  -4.921663 -11.389168   \n",
      "284  4  2      1    5  -5.444681 -105.97234 -532.140039  -2.721663 -11.389168   \n",
      "7    7  4      7    1   0.855319   34.52766   60.259961   1.678337 -10.889168   \n",
      "0    6  3      2    5  -4.444681  -84.67234 -453.640039  -3.921663 -10.689168   \n",
      "411  6  2      1    5  -6.044681 -107.67234 -504.340039  -5.721663 -10.689168   \n",
      "3    7  4      2    5   1.055319  -77.57234 -470.440039  -0.021663 -10.589168   \n",
      "77   0  1      2    1  -3.044681  -58.67234 -444.140039  -4.021663 -10.589168   \n",
      "378  5  3      2    4   0.255319  -91.97234 -517.340039  -1.021663 -10.189168   \n",
      "..  .. ..    ...  ...        ...        ...         ...        ...        ...   \n",
      "231  0  3      8    0   2.855319   38.42766  180.659961  -0.921663   8.910832   \n",
      "511  7  4      7    0  -9.044681  -54.17234  117.659961  -7.121663   8.910832   \n",
      "512  3  1      7    0  -9.044681  -54.17234  117.659961  -7.121663   8.910832   \n",
      "405  1  0      7    2   3.955319  101.22766  132.959961   0.478337   9.010832   \n",
      "427  1  2      7    1   1.455319   96.12766  124.659961  -0.821663   9.010832   \n",
      "400  8  3      5    3   2.655319  -61.37234 -250.240039   4.978337   9.110832   \n",
      "399  8  3      5    3   2.655319  -61.37234 -250.240039   4.978337   9.110832   \n",
      "382  7  4      7    3   4.555319  106.82766  142.059961   8.978337   9.310832   \n",
      "260  1  2      7    1   2.955319  -12.97234   -5.940039   5.378337   9.410832   \n",
      "228  3  4      8    0   2.855319   38.42766  180.659961  -0.921663   9.410832   \n",
      "156  1  2      8    6   2.755319   34.52766  173.459961  -0.921663   9.710832   \n",
      "490  3  2      7    3   4.455319   30.42766   57.859961   8.678337   9.810832   \n",
      "248  7  4      7    3   2.455319   46.42766  118.759961   4.478337   9.810832   \n",
      "504  3  1      7    3   3.855319   28.52766  141.159961  10.978337  10.010832   \n",
      "503  1  2      7    3   3.855319   28.52766  141.159961  10.978337  10.310832   \n",
      "422  7  4      6    0  -1.744681  152.22766  247.959961  -3.821663  10.410832   \n",
      "154  0  3      8    6   2.755319   34.52766  173.459961  -0.921663  10.710832   \n",
      "480  8  7      6    4   2.555319    3.52766   12.059961   0.478337  11.310832   \n",
      "481  3  1      6    4   2.555319    3.52766   12.059961   0.478337  11.310832   \n",
      "28   5  1      8    6   2.755319   34.52766  173.459961  -0.921663  11.310832   \n",
      "485  1  2      7    1   4.355319   24.62766   48.359961  12.278337  11.710832   \n",
      "494  5  4      7    6   5.355319   53.12766   95.059961   4.978337  11.910832   \n",
      "421  1  2      7    3   4.555319  106.82766  142.059961   8.978337  11.910832   \n",
      "483  7  4      7    0   4.255319   19.42766   39.159961   5.078337  12.110832   \n",
      "497  2  2      7    2   5.455319   70.22766  123.259961   5.278337  13.410832   \n",
      "491  3  2      7    4   5.155319   41.12766   76.159961   4.778337  13.510832   \n",
      "492  0  1      7    5   5.255319   47.12766   85.659961   2.278337  13.510832   \n",
      "496  3  3      7    1   5.555319   64.62766  113.859961   7.778337  13.710832   \n",
      "484  1  3      7    0   4.255319   19.42766   39.159961   5.078337  14.210832   \n",
      "498  5  3      7    2   5.455319   70.22766  123.259961   5.278337  14.410832   \n",
      "\n",
      "            RH      wind      rain       area  category  \n",
      "280  14.711799  0.882398 -0.021663  -3.577292         0  \n",
      "282   6.711799 -0.017602 -0.021663 -12.847292         0  \n",
      "279 -23.288201  4.482398 -0.021663  -3.077292         0  \n",
      "278 -23.288201  4.482398 -0.021663   9.182708         1  \n",
      "277 -23.288201  4.482398 -0.021663  -2.117292         1  \n",
      "276 -23.288201  4.482398 -0.021663   5.002708         1  \n",
      "465  14.711799 -3.117602 -0.021663  -6.007292         0  \n",
      "463  37.711799  2.282398 -0.021663  -7.457292         0  \n",
      "273  12.711799  4.482398 -0.021663  -3.867292         0  \n",
      "211  51.711799  1.782398 -0.021663  13.152708         1  \n",
      "464  32.711799  1.382398 -0.021663 -10.707292         0  \n",
      "274  16.711799  3.982398 -0.021663  -1.657292         1  \n",
      "275  16.711799  0.882398 -0.021663  -7.467292         0  \n",
      "281 -20.288201  4.482398 -0.021663  11.922708         1  \n",
      "379  55.711799 -3.117602 -0.021663 -12.847292         0  \n",
      "165  25.711799  0.482398 -0.021663 -10.707292         0  \n",
      "394  23.711799 -2.217602 -0.021663 -12.847292         0  \n",
      "104  33.711799 -0.917602 -0.021663 -12.847292         0  \n",
      "61   14.711799  2.282398 -0.021663 -12.847292         0  \n",
      "176   9.711799  1.782398 -0.021663  -8.237292         0  \n",
      "196   9.711799  1.782398 -0.021663  -1.917292         1  \n",
      "75   34.711799 -0.917602 -0.021663 -12.847292         0  \n",
      "390  26.711799  2.282398 -0.021663  -2.887292         0  \n",
      "284   1.711799  3.982398 -0.021663  11.392708         1  \n",
      "7    41.711799 -1.817602 -0.021663 -12.847292         0  \n",
      "0     6.711799  2.682398 -0.021663 -12.847292         0  \n",
      "411   8.711799  5.382398 -0.021663  -8.227292         0  \n",
      "3    52.711799 -0.017602  0.178337 -12.847292         0  \n",
      "77   27.711799 -0.917602 -0.021663 -12.847292         0  \n",
      "378   6.711799  1.782398 -0.021663 -12.847292         0  \n",
      "..         ...       ...       ...        ...       ...  \n",
      "231 -17.288201 -0.917602 -0.021663  82.332708         2  \n",
      "511  -9.288201 -1.317602 -0.021663 -12.847292         0  \n",
      "512 -12.288201 -1.317602 -0.021663  -6.407292         0  \n",
      "405 -17.288201 -1.817602 -0.021663 -12.847292         0  \n",
      "427 -11.288201 -1.817602 -0.021663 -10.497292         0  \n",
      "400 -10.288201  0.482398 -0.021663  -4.687292         0  \n",
      "399 -10.288201  0.482398 -0.021663 -12.847292         0  \n",
      "382 -15.288201 -2.217602 -0.021663  -6.987292         0  \n",
      "260 -12.288201 -0.017602 -0.021663  -3.997292         0  \n",
      "228 -18.288201 -0.917602 -0.021663  51.252708         2  \n",
      "156 -17.288201 -1.817602 -0.021663 -11.237292         0  \n",
      "490 -11.288201 -0.017602 -0.021663 -12.847292         0  \n",
      "248 -16.288201 -1.317602 -0.021663 -12.847292         0  \n",
      "504 -15.288201  0.882398 -0.021663  36.742708         2  \n",
      "503 -14.288201  0.882398 -0.021663 -10.897292         0  \n",
      "422 -17.288201 -0.417602 -0.021663  -6.547292         0  \n",
      "154 -17.288201 -1.317602 -0.021663 -11.387292         0  \n",
      "480 -19.288201  0.482398 -0.021663 -10.097292         0  \n",
      "481 -22.288201  0.882398 -0.021663 -12.847292         0  \n",
      "28  -20.288201 -1.317602 -0.021663 -12.847292         0  \n",
      "485 -16.288201 -0.417602 -0.021663 -10.777292         0  \n",
      "494 -14.288201  0.882398 -0.021663  -4.257292         0  \n",
      "421 -25.288201  0.482398 -0.021663 -12.847292         0  \n",
      "483 -17.288201  1.382398 -0.021663 -12.847292         0  \n",
      "497 -17.288201 -1.817602 -0.021663   1.832708         1  \n",
      "491 -23.288201  0.482398 -0.021663 -12.847292         0  \n",
      "492 -17.288201 -1.817602 -0.021663 -12.847292         0  \n",
      "496 -18.288201 -0.917602 -0.021663 -10.077292         0  \n",
      "484 -19.288201 -0.017602 -0.021663  13.582708         1  \n",
      "498 -18.288201 -1.317602 -0.021663  27.692708         2  \n",
      "\n",
      "[517 rows x 14 columns]\n"
     ]
    }
   ],
   "source": [
    "print(fire)"
   ]
  },
  {
   "cell_type": "code",
   "execution_count": 6,
   "metadata": {},
   "outputs": [],
   "source": [
    "import seaborn as sns\n",
    "import matplotlib.pyplot as plt\n",
    "%matplotlib inline\n",
    "sns.set(font_scale=1.5)"
   ]
  },
  {
   "cell_type": "code",
   "execution_count": 7,
   "metadata": {},
   "outputs": [
    {
     "data": {
      "text/plain": [
       "<seaborn.axisgrid.FacetGrid at 0x1a14232518>"
      ]
     },
     "execution_count": 7,
     "metadata": {},
     "output_type": "execute_result"
    },
    {
     "data": {
      "image/png": "[encoded data removed]",
      "text/plain": [
       "<Figure size 360x360 with 1 Axes>"
      ]
     },
     "metadata": {},
     "output_type": "display_data"
    }
   ],
   "source": [
    "sns.lmplot(x='temp', y='area', data=fire, ci=None)"
   ]
  },
  {
   "cell_type": "code",
   "execution_count": 8,
   "metadata": {},
   "outputs": [
    {
     "data": {
      "text/plain": [
       "<matplotlib.axes._subplots.AxesSubplot at 0x1a17da8240>"
      ]
     },
     "execution_count": 8,
     "metadata": {},
     "output_type": "execute_result"
    },
    {
     "data": {
      "image/png": "[encoded data removed]",
      "text/plain": [
       "<Figure size 432x288 with 1 Axes>"
      ]
     },
     "metadata": {},
     "output_type": "display_data"
    }
   ],
   "source": [
    "# scatter plot using Pandas\n",
    "fire.plot(kind='scatter', x='temp', y='area')"
   ]
  },
  {
   "cell_type": "code",
   "execution_count": 9,
   "metadata": {},
   "outputs": [
    {
     "data": {
      "text/plain": [
       "Text(0,0.5,'area')"
      ]
     },
     "execution_count": 9,
     "metadata": {},
     "output_type": "execute_result"
    },
    {
     "data": {
      "image/png": "[encoded data removed]",
      "text/plain": [
       "<Figure size 432x288 with 1 Axes>"
      ]
     },
     "metadata": {},
     "output_type": "display_data"
    }
   ],
   "source": [
    "# equivalent scatter plot using Matplotlib\n",
    "plt.scatter(fire.temp, fire.area)\n",
    "plt.xlabel('temp')\n",
    "plt.ylabel('area')"
   ]
  },
  {
   "cell_type": "markdown",
   "metadata": {},
   "source": [
    "### Attempt to use Linear Regression for Classification"
   ]
  },
  {
   "cell_type": "code",
   "execution_count": 10,
   "metadata": {},
   "outputs": [
    {
     "data": {
      "text/plain": [
       "LinearRegression(copy_X=True, fit_intercept=True, n_jobs=1, normalize=False)"
      ]
     },
     "execution_count": 10,
     "metadata": {},
     "output_type": "execute_result"
    }
   ],
   "source": [
    "# fit a linear regression model\n",
    "from sklearn.linear_model import LinearRegression\n",
    "linreg = LinearRegression()\n",
    "feature_cols = ['temp']\n",
    "X = fire[feature_cols]\n",
    "y=fire.area\n",
    "linreg.fit(X, y)"
   ]
  },
  {
   "cell_type": "code",
   "execution_count": 11,
   "metadata": {},
   "outputs": [
    {
     "data": {
      "text/html": [
       "<div>\n",
       "<style scoped>\n",
       "    .dataframe tbody tr th:only-of-type {\n",
       "        vertical-align: middle;\n",
       "    }\n",
       "\n",
       "    .dataframe tbody tr th {\n",
       "        vertical-align: top;\n",
       "    }\n",
       "\n",
       "    .dataframe thead th {\n",
       "        text-align: right;\n",
       "    }\n",
       "</style>\n",
       "<table border=\"1\" class=\"dataframe\">\n",
       "  <thead>\n",
       "    <tr style=\"text-align: right;\">\n",
       "      <th></th>\n",
       "      <th>X</th>\n",
       "      <th>Y</th>\n",
       "      <th>month</th>\n",
       "      <th>day</th>\n",
       "      <th>FFMC</th>\n",
       "      <th>DMC</th>\n",
       "      <th>DC</th>\n",
       "      <th>ISI</th>\n",
       "      <th>temp</th>\n",
       "      <th>RH</th>\n",
       "      <th>wind</th>\n",
       "      <th>rain</th>\n",
       "      <th>area</th>\n",
       "      <th>category</th>\n",
       "      <th>area_pred</th>\n",
       "    </tr>\n",
       "  </thead>\n",
       "  <tbody>\n",
       "    <tr>\n",
       "      <th>280</th>\n",
       "      <td>3</td>\n",
       "      <td>4</td>\n",
       "      <td>11</td>\n",
       "      <td>5</td>\n",
       "      <td>-5.944681</td>\n",
       "      <td>-84.17234</td>\n",
       "      <td>-195.340039</td>\n",
       "      <td>-4.921663</td>\n",
       "      <td>-16.689168</td>\n",
       "      <td>14.711799</td>\n",
       "      <td>0.882398</td>\n",
       "      <td>-0.021663</td>\n",
       "      <td>-3.577292</td>\n",
       "      <td>0</td>\n",
       "      <td>-17.901263</td>\n",
       "    </tr>\n",
       "    <tr>\n",
       "      <th>282</th>\n",
       "      <td>5</td>\n",
       "      <td>1</td>\n",
       "      <td>1</td>\n",
       "      <td>0</td>\n",
       "      <td>-5.744681</td>\n",
       "      <td>-83.37234</td>\n",
       "      <td>-194.440039</td>\n",
       "      <td>-5.621663</td>\n",
       "      <td>-14.689168</td>\n",
       "      <td>6.711799</td>\n",
       "      <td>-0.017602</td>\n",
       "      <td>-0.021663</td>\n",
       "      <td>-12.847292</td>\n",
       "      <td>0</td>\n",
       "      <td>-15.756008</td>\n",
       "    </tr>\n",
       "    <tr>\n",
       "      <th>279</th>\n",
       "      <td>3</td>\n",
       "      <td>2</td>\n",
       "      <td>11</td>\n",
       "      <td>1</td>\n",
       "      <td>-5.244681</td>\n",
       "      <td>-85.47234</td>\n",
       "      <td>-198.240039</td>\n",
       "      <td>-6.421663</td>\n",
       "      <td>-14.289168</td>\n",
       "      <td>-23.288201</td>\n",
       "      <td>4.482398</td>\n",
       "      <td>-0.021663</td>\n",
       "      <td>-3.077292</td>\n",
       "      <td>0</td>\n",
       "      <td>-15.326957</td>\n",
       "    </tr>\n",
       "    <tr>\n",
       "      <th>278</th>\n",
       "      <td>3</td>\n",
       "      <td>2</td>\n",
       "      <td>11</td>\n",
       "      <td>1</td>\n",
       "      <td>-5.244681</td>\n",
       "      <td>-85.47234</td>\n",
       "      <td>-198.240039</td>\n",
       "      <td>-6.421663</td>\n",
       "      <td>-14.289168</td>\n",
       "      <td>-23.288201</td>\n",
       "      <td>4.482398</td>\n",
       "      <td>-0.021663</td>\n",
       "      <td>9.182708</td>\n",
       "      <td>1</td>\n",
       "      <td>-15.326957</td>\n",
       "    </tr>\n",
       "    <tr>\n",
       "      <th>277</th>\n",
       "      <td>2</td>\n",
       "      <td>2</td>\n",
       "      <td>11</td>\n",
       "      <td>1</td>\n",
       "      <td>-5.244681</td>\n",
       "      <td>-85.47234</td>\n",
       "      <td>-198.240039</td>\n",
       "      <td>-6.421663</td>\n",
       "      <td>-14.289168</td>\n",
       "      <td>-23.288201</td>\n",
       "      <td>4.482398</td>\n",
       "      <td>-0.021663</td>\n",
       "      <td>-2.117292</td>\n",
       "      <td>1</td>\n",
       "      <td>-15.326957</td>\n",
       "    </tr>\n",
       "  </tbody>\n",
       "</table>\n",
       "</div>"
      ],
      "text/plain": [
       "     X  Y  month  day      FFMC       DMC          DC       ISI       temp  \\\n",
       "280  3  4     11    5 -5.944681 -84.17234 -195.340039 -4.921663 -16.689168   \n",
       "282  5  1      1    0 -5.744681 -83.37234 -194.440039 -5.621663 -14.689168   \n",
       "279  3  2     11    1 -5.244681 -85.47234 -198.240039 -6.421663 -14.289168   \n",
       "278  3  2     11    1 -5.244681 -85.47234 -198.240039 -6.421663 -14.289168   \n",
       "277  2  2     11    1 -5.244681 -85.47234 -198.240039 -6.421663 -14.289168   \n",
       "\n",
       "            RH      wind      rain       area  category  area_pred  \n",
       "280  14.711799  0.882398 -0.021663  -3.577292         0 -17.901263  \n",
       "282   6.711799 -0.017602 -0.021663 -12.847292         0 -15.756008  \n",
       "279 -23.288201  4.482398 -0.021663  -3.077292         0 -15.326957  \n",
       "278 -23.288201  4.482398 -0.021663   9.182708         1 -15.326957  \n",
       "277 -23.288201  4.482398 -0.021663  -2.117292         1 -15.326957  "
      ]
     },
     "execution_count": 11,
     "metadata": {},
     "output_type": "execute_result"
    }
   ],
   "source": [
    "# make predictions for all values of X\n",
    "fire['area_pred'] = linreg.predict(X)\n",
    "fire.head()"
   ]
  },
  {
   "cell_type": "code",
   "execution_count": 12,
   "metadata": {},
   "outputs": [
    {
     "data": {
      "text/plain": [
       "Text(0,0.5,'Predicted area')"
      ]
     },
     "execution_count": 12,
     "metadata": {},
     "output_type": "execute_result"
    },
    {
     "data": {
      "image/png": "[encoded data removed]",
      "text/plain": [
       "<Figure size 432x288 with 1 Axes>"
      ]
     },
     "metadata": {},
     "output_type": "display_data"
    }
   ],
   "source": [
    "# plot those predictions connected by a line\n",
    "plt.plot(fire.temp, fire.area_pred, color='red')\n",
    "plt.xlabel('temp')\n",
    "plt.ylabel('Predicted area')"
   ]
  },
  {
   "cell_type": "code",
   "execution_count": 13,
   "metadata": {},
   "outputs": [
    {
     "data": {
      "text/plain": [
       "Text(0,0.5,'area')"
      ]
     },
     "execution_count": 13,
     "metadata": {},
     "output_type": "execute_result"
    },
    {
     "data": {
      "image/png": "[encoded data removed]",
      "text/plain": [
       "<Figure size 432x288 with 1 Axes>"
      ]
     },
     "metadata": {},
     "output_type": "display_data"
    }
   ],
   "source": [
    "# plot those predictions connected by a line\n",
    "plt.plot(fire.temp, fire.area, color='blue')\n",
    "plt.xlabel('temp')\n",
    "plt.ylabel('area')"
   ]
  },
  {
   "cell_type": "markdown",
   "metadata": {},
   "source": [
    "### Line of Best Fit"
   ]
  },
  {
   "cell_type": "code",
   "execution_count": 14,
   "metadata": {},
   "outputs": [
    {
     "data": {
      "text/plain": [
       "Text(0,0.5,'area')"
      ]
     },
     "execution_count": 14,
     "metadata": {},
     "output_type": "execute_result"
    },
    {
     "data": {
      "image/png": "[encoded data removed]",
      "text/plain": [
       "<Figure size 432x288 with 1 Axes>"
      ]
     },
     "metadata": {},
     "output_type": "display_data"
    }
   ],
   "source": [
    "# put the plots together\n",
    "plt.scatter(fire.temp, fire.area)\n",
    "plt.plot(fire.temp, fire.area_pred, color='red')\n",
    "plt.xlabel('temp')\n",
    "plt.ylabel('area')"
   ]
  },
  {
   "cell_type": "markdown",
   "metadata": {},
   "source": [
    "### Interpreting Linear Regression Coefficients"
   ]
  },
  {
   "cell_type": "code",
   "execution_count": 15,
   "metadata": {},
   "outputs": [
    {
     "data": {
      "text/plain": [
       "array([32.17882863])"
      ]
     },
     "execution_count": 15,
     "metadata": {},
     "output_type": "execute_result"
    }
   ],
   "source": [
    "# compute prediction for temp=30 using the equation\n",
    "linreg.intercept_ + linreg.coef_ *30"
   ]
  },
  {
   "cell_type": "code",
   "execution_count": 16,
   "metadata": {},
   "outputs": [
    {
     "data": {
      "text/plain": [
       "array([32.17882863])"
      ]
     },
     "execution_count": 16,
     "metadata": {},
     "output_type": "execute_result"
    }
   ],
   "source": [
    "# compute prediction for temp=30 using the predict method\n",
    "linreg.predict(30)"
   ]
  },
  {
   "cell_type": "code",
   "execution_count": 17,
   "metadata": {},
   "outputs": [
    {
     "data": {
      "text/plain": [
       "<zip at 0x1a18811448>"
      ]
     },
     "execution_count": 17,
     "metadata": {},
     "output_type": "execute_result"
    }
   ],
   "source": [
    "# examine coefficient for temp\n",
    "zip(feature_cols, linreg.coef_)"
   ]
  },
  {
   "cell_type": "code",
   "execution_count": 18,
   "metadata": {},
   "outputs": [
    {
     "data": {
      "text/plain": [
       "array([85.81020968])"
      ]
     },
     "execution_count": 18,
     "metadata": {},
     "output_type": "execute_result"
    }
   ],
   "source": [
    "linreg.predict(80)"
   ]
  },
  {
   "cell_type": "markdown",
   "metadata": {},
   "source": [
    "### Predicting Categorical Response"
   ]
  },
  {
   "cell_type": "code",
   "execution_count": 19,
   "metadata": {},
   "outputs": [
    {
     "data": {
      "text/plain": [
       "Text(0,0.5,'category')"
      ]
     },
     "execution_count": 19,
     "metadata": {},
     "output_type": "execute_result"
    },
    {
     "data": {
      "image/png": "[encoded data removed]",
      "text/plain": [
       "<Figure size 432x288 with 1 Axes>"
      ]
     },
     "metadata": {},
     "output_type": "display_data"
    }
   ],
   "source": [
    "plt.scatter(fire.temp, fire.category)\n",
    "plt.xlabel('temp')\n",
    "plt.ylabel('category')"
   ]
  },
  {
   "cell_type": "code",
   "execution_count": 20,
   "metadata": {},
   "outputs": [],
   "source": [
    "# fit a linear regression model and store the predictions\n",
    "feature_cols = ['temp']\n",
    "X = fire[feature_cols]\n",
    "y = fire.category\n",
    "linreg.fit(X, y)\n",
    "fire['category_pred'] = linreg.predict(X)"
   ]
  },
  {
   "cell_type": "markdown",
   "metadata": {},
   "source": [
    "- Lets draw a Regression Line like before"
   ]
  },
  {
   "cell_type": "code",
   "execution_count": 21,
   "metadata": {},
   "outputs": [
    {
     "data": {
      "text/plain": [
       "Text(0,0.5,'category_pred')"
      ]
     },
     "execution_count": 21,
     "metadata": {},
     "output_type": "execute_result"
    },
    {
     "data": {
      "image/png": "[encoded data removed]",
      "text/plain": [
       "<Figure size 432x288 with 1 Axes>"
      ]
     },
     "metadata": {},
     "output_type": "display_data"
    }
   ],
   "source": [
    "# scatter plot that includes the regression line\n",
    "plt.scatter(fire.temp, fire.category)\n",
    "plt.plot(fire.temp, fire.category_pred,color='red')\n",
    "plt.xlabel('temp')\n",
    "plt.ylabel('category_pred')"
   ]
  },
  {
   "cell_type": "markdown",
   "metadata": {},
   "source": [
    "### Calculating the cut off value \n",
    "- When temp=0, the Regression Line crosses the midpoint between the predicting classes - temp and category_pred. Hence, when the category_pred > 0.4, then we predict it as 1 else we predict it as 0."
   ]
  },
  {
   "cell_type": "code",
   "execution_count": 22,
   "metadata": {
    "scrolled": true
   },
   "outputs": [
    {
     "data": {
      "text/html": [
       "<div>\n",
       "<style scoped>\n",
       "    .dataframe tbody tr th:only-of-type {\n",
       "        vertical-align: middle;\n",
       "    }\n",
       "\n",
       "    .dataframe tbody tr th {\n",
       "        vertical-align: top;\n",
       "    }\n",
       "\n",
       "    .dataframe thead th {\n",
       "        text-align: right;\n",
       "    }\n",
       "</style>\n",
       "<table border=\"1\" class=\"dataframe\">\n",
       "  <thead>\n",
       "    <tr style=\"text-align: right;\">\n",
       "      <th></th>\n",
       "      <th>X</th>\n",
       "      <th>Y</th>\n",
       "      <th>month</th>\n",
       "      <th>day</th>\n",
       "      <th>FFMC</th>\n",
       "      <th>DMC</th>\n",
       "      <th>DC</th>\n",
       "      <th>ISI</th>\n",
       "      <th>temp</th>\n",
       "      <th>RH</th>\n",
       "      <th>wind</th>\n",
       "      <th>rain</th>\n",
       "      <th>area</th>\n",
       "      <th>category</th>\n",
       "      <th>area_pred</th>\n",
       "      <th>category_pred</th>\n",
       "      <th>category_pred_class</th>\n",
       "    </tr>\n",
       "  </thead>\n",
       "  <tbody>\n",
       "    <tr>\n",
       "      <th>280</th>\n",
       "      <td>3</td>\n",
       "      <td>4</td>\n",
       "      <td>11</td>\n",
       "      <td>5</td>\n",
       "      <td>-5.944681</td>\n",
       "      <td>-84.17234</td>\n",
       "      <td>-195.340039</td>\n",
       "      <td>-4.921663</td>\n",
       "      <td>-16.689168</td>\n",
       "      <td>14.711799</td>\n",
       "      <td>0.882398</td>\n",
       "      <td>-0.021663</td>\n",
       "      <td>-3.577292</td>\n",
       "      <td>0</td>\n",
       "      <td>-17.901263</td>\n",
       "      <td>0.167758</td>\n",
       "      <td>0</td>\n",
       "    </tr>\n",
       "    <tr>\n",
       "      <th>282</th>\n",
       "      <td>5</td>\n",
       "      <td>1</td>\n",
       "      <td>1</td>\n",
       "      <td>0</td>\n",
       "      <td>-5.744681</td>\n",
       "      <td>-83.37234</td>\n",
       "      <td>-194.440039</td>\n",
       "      <td>-5.621663</td>\n",
       "      <td>-14.689168</td>\n",
       "      <td>6.711799</td>\n",
       "      <td>-0.017602</td>\n",
       "      <td>-0.021663</td>\n",
       "      <td>-12.847292</td>\n",
       "      <td>0</td>\n",
       "      <td>-15.756008</td>\n",
       "      <td>0.180337</td>\n",
       "      <td>0</td>\n",
       "    </tr>\n",
       "    <tr>\n",
       "      <th>279</th>\n",
       "      <td>3</td>\n",
       "      <td>2</td>\n",
       "      <td>11</td>\n",
       "      <td>1</td>\n",
       "      <td>-5.244681</td>\n",
       "      <td>-85.47234</td>\n",
       "      <td>-198.240039</td>\n",
       "      <td>-6.421663</td>\n",
       "      <td>-14.289168</td>\n",
       "      <td>-23.288201</td>\n",
       "      <td>4.482398</td>\n",
       "      <td>-0.021663</td>\n",
       "      <td>-3.077292</td>\n",
       "      <td>0</td>\n",
       "      <td>-15.326957</td>\n",
       "      <td>0.182853</td>\n",
       "      <td>0</td>\n",
       "    </tr>\n",
       "    <tr>\n",
       "      <th>278</th>\n",
       "      <td>3</td>\n",
       "      <td>2</td>\n",
       "      <td>11</td>\n",
       "      <td>1</td>\n",
       "      <td>-5.244681</td>\n",
       "      <td>-85.47234</td>\n",
       "      <td>-198.240039</td>\n",
       "      <td>-6.421663</td>\n",
       "      <td>-14.289168</td>\n",
       "      <td>-23.288201</td>\n",
       "      <td>4.482398</td>\n",
       "      <td>-0.021663</td>\n",
       "      <td>9.182708</td>\n",
       "      <td>1</td>\n",
       "      <td>-15.326957</td>\n",
       "      <td>0.182853</td>\n",
       "      <td>1</td>\n",
       "    </tr>\n",
       "    <tr>\n",
       "      <th>277</th>\n",
       "      <td>2</td>\n",
       "      <td>2</td>\n",
       "      <td>11</td>\n",
       "      <td>1</td>\n",
       "      <td>-5.244681</td>\n",
       "      <td>-85.47234</td>\n",
       "      <td>-198.240039</td>\n",
       "      <td>-6.421663</td>\n",
       "      <td>-14.289168</td>\n",
       "      <td>-23.288201</td>\n",
       "      <td>4.482398</td>\n",
       "      <td>-0.021663</td>\n",
       "      <td>-2.117292</td>\n",
       "      <td>1</td>\n",
       "      <td>-15.326957</td>\n",
       "      <td>0.182853</td>\n",
       "      <td>1</td>\n",
       "    </tr>\n",
       "  </tbody>\n",
       "</table>\n",
       "</div>"
      ],
      "text/plain": [
       "     X  Y  month  day      FFMC       DMC          DC       ISI       temp  \\\n",
       "280  3  4     11    5 -5.944681 -84.17234 -195.340039 -4.921663 -16.689168   \n",
       "282  5  1      1    0 -5.744681 -83.37234 -194.440039 -5.621663 -14.689168   \n",
       "279  3  2     11    1 -5.244681 -85.47234 -198.240039 -6.421663 -14.289168   \n",
       "278  3  2     11    1 -5.244681 -85.47234 -198.240039 -6.421663 -14.289168   \n",
       "277  2  2     11    1 -5.244681 -85.47234 -198.240039 -6.421663 -14.289168   \n",
       "\n",
       "            RH      wind      rain       area  category  area_pred  \\\n",
       "280  14.711799  0.882398 -0.021663  -3.577292         0 -17.901263   \n",
       "282   6.711799 -0.017602 -0.021663 -12.847292         0 -15.756008   \n",
       "279 -23.288201  4.482398 -0.021663  -3.077292         0 -15.326957   \n",
       "278 -23.288201  4.482398 -0.021663   9.182708         1 -15.326957   \n",
       "277 -23.288201  4.482398 -0.021663  -2.117292         1 -15.326957   \n",
       "\n",
       "     category_pred  category_pred_class  \n",
       "280       0.167758                    0  \n",
       "282       0.180337                    0  \n",
       "279       0.182853                    0  \n",
       "278       0.182853                    1  \n",
       "277       0.182853                    1  "
      ]
     },
     "execution_count": 22,
     "metadata": {},
     "output_type": "execute_result"
    }
   ],
   "source": [
    "import numpy as np\n",
    "\n",
    "# transform category_pred_class to 1 or 0\n",
    "fire['category_pred_class'] = np.where(fire.category > 0.4, 1, 0)\n",
    "fire.head()"
   ]
  },
  {
   "cell_type": "code",
   "execution_count": 23,
   "metadata": {},
   "outputs": [
    {
     "data": {
      "text/plain": [
       "Text(0,0.5,'category')"
      ]
     },
     "execution_count": 23,
     "metadata": {},
     "output_type": "execute_result"
    },
    {
     "data": {
      "image/png": "[encoded data removed]",
      "text/plain": [
       "<Figure size 432x288 with 1 Axes>"
      ]
     },
     "metadata": {},
     "output_type": "display_data"
    }
   ],
   "source": [
    "# plot the class predictions\n",
    "plt.scatter(fire.temp, fire.category)\n",
    "plt.plot(fire.temp, fire.category_pred_class, color='red')\n",
    "plt.xlabel('temp')\n",
    "plt.ylabel('category')"
   ]
  },
  {
   "cell_type": "markdown",
   "metadata": {},
   "source": [
    "### Using Logistic Regression Instead"
   ]
  },
  {
   "cell_type": "code",
   "execution_count": 24,
   "metadata": {},
   "outputs": [],
   "source": [
    "# fit a logistic regression model and store the class predictions\n",
    "from sklearn.linear_model import LogisticRegression\n",
    "logreg = LogisticRegression(C=1e9)\n",
    "feature_cols = ['temp']\n",
    "X = fire[feature_cols]\n",
    "y = fire.category\n",
    "logreg.fit(X, y)\n",
    "fire['category_pred_class'] = logreg.predict(X)"
   ]
  },
  {
   "cell_type": "code",
   "execution_count": 25,
   "metadata": {},
   "outputs": [
    {
     "data": {
      "text/plain": [
       "Text(0,0.5,'category')"
      ]
     },
     "execution_count": 25,
     "metadata": {},
     "output_type": "execute_result"
    },
    {
     "data": {
      "image/png": "[encoded data removed]",
      "text/plain": [
       "<Figure size 432x288 with 1 Axes>"
      ]
     },
     "metadata": {},
     "output_type": "display_data"
    }
   ],
   "source": [
    "# plot the class predictions\n",
    "plt.scatter(fire.temp, fire.category)\n",
    "plt.plot(fire.temp, fire.category_pred_class, color='red')\n",
    "plt.xlabel('temp')\n",
    "plt.ylabel('category')"
   ]
  },
  {
   "cell_type": "markdown",
   "metadata": {},
   "source": [
    "- What if we wanted the predicted probabilities instead of just the class predictions, \n",
    "to understand how confident we are in a given prediction"
   ]
  },
  {
   "cell_type": "code",
   "execution_count": 26,
   "metadata": {},
   "outputs": [],
   "source": [
    "# store the predicted probabilites of class\n",
    "fire['category_pred_prob'] = logreg.predict_proba(X)[:, 1]"
   ]
  },
  {
   "cell_type": "code",
   "execution_count": 27,
   "metadata": {},
   "outputs": [
    {
     "data": {
      "text/plain": [
       "Text(0,0.5,'category')"
      ]
     },
     "execution_count": 27,
     "metadata": {},
     "output_type": "execute_result"
    },
    {
     "data": {
      "image/png": "[encoded data removed]",
      "text/plain": [
       "<Figure size 432x288 with 1 Axes>"
      ]
     },
     "metadata": {},
     "output_type": "display_data"
    }
   ],
   "source": [
    "# plot the predicted probabilities\n",
    "plt.scatter(fire.temp, fire.category)\n",
    "plt.plot(fire.temp, fire.category_pred_prob, color='red')\n",
    "plt.xlabel('temp')\n",
    "plt.ylabel('category')"
   ]
  },
  {
   "cell_type": "markdown",
   "metadata": {},
   "source": [
    "- We are dividing the \"area\" into 5 categories and using Logistic Regression, we are predicting the probability of fire in a given area for 'X' value of temperature."
   ]
  },
  {
   "cell_type": "code",
   "execution_count": 28,
   "metadata": {},
   "outputs": [
    {
     "data": {
      "text/plain": [
       "array([[0.76525312, 0.06179271, 0.1279477 , 0.02924333, 0.01576313]])"
      ]
     },
     "execution_count": 28,
     "metadata": {},
     "output_type": "execute_result"
    }
   ],
   "source": [
    "# examine some example predictions\n",
    "logreg.predict_proba(13.1)"
   ]
  },
  {
   "cell_type": "code",
   "execution_count": 29,
   "metadata": {},
   "outputs": [
    {
     "data": {
      "text/plain": [
       "array([[0.52755207, 0.03217008, 0.12647117, 0.24458929, 0.06921739]])"
      ]
     },
     "execution_count": 29,
     "metadata": {},
     "output_type": "execute_result"
    }
   ],
   "source": [
    "logreg.predict_proba(21.9)"
   ]
  },
  {
   "cell_type": "code",
   "execution_count": 30,
   "metadata": {},
   "outputs": [
    {
     "data": {
      "text/plain": [
       "array([[0.63875786, 0.04302349, 0.13523398, 0.13845191, 0.04453275]])"
      ]
     },
     "execution_count": 30,
     "metadata": {},
     "output_type": "execute_result"
    }
   ],
   "source": [
    "logreg.predict_proba(18.8)"
   ]
  },
  {
   "cell_type": "markdown",
   "metadata": {},
   "source": [
    "### Apply Sigmoid function to classify"
   ]
  },
  {
   "cell_type": "code",
   "execution_count": 31,
   "metadata": {},
   "outputs": [],
   "source": [
    "import math\n",
    "\n",
    "def sigmoid(X):\n",
    "    return 1 / (1 + math.e ** -X)"
   ]
  },
  {
   "cell_type": "code",
   "execution_count": 32,
   "metadata": {},
   "outputs": [],
   "source": [
    "y = sigmoid(X)"
   ]
  },
  {
   "cell_type": "code",
   "execution_count": 33,
   "metadata": {},
   "outputs": [
    {
     "data": {
      "image/png": "[encoded data removed]",
      "text/plain": [
       "<Figure size 432x288 with 1 Axes>"
      ]
     },
     "metadata": {},
     "output_type": "display_data"
    }
   ],
   "source": [
    "plt.plot(X,y)\n",
    "plt.show()"
   ]
  },
  {
   "cell_type": "code",
   "execution_count": 34,
   "metadata": {},
   "outputs": [],
   "source": [
    "X = fire.iloc[:, 5].values \n",
    "Y = fire.iloc[:, 13].values"
   ]
  },
  {
   "cell_type": "code",
   "execution_count": 35,
   "metadata": {},
   "outputs": [],
   "source": [
    "import numpy\n",
    "\n",
    "mean_x=numpy.mean(X)\n",
    "mean_y=numpy.mean(Y)\n",
    "n=len(X)\n",
    "number=0\n",
    "denom=0\n",
    "for i in range(n):\n",
    "    number+=(X[i]-mean_x)*(Y[i]-mean_y)\n",
    "    denom+=(X[i]-mean_x)**2\n",
    "b1=number/denom\n",
    "b0=mean_y-(b1*mean_x)"
   ]
  },
  {
   "cell_type": "code",
   "execution_count": 36,
   "metadata": {},
   "outputs": [
    {
     "name": "stdout",
     "output_type": "stream",
     "text": [
      "0.0005169594118355848 0.27272727272727276\n",
      "181.427659574468 -110.772340425532\n"
     ]
    },
    {
     "data": {
      "image/png": "[encoded data removed]",
      "text/plain": [
       "<Figure size 432x288 with 1 Axes>"
      ]
     },
     "metadata": {},
     "output_type": "display_data"
    }
   ],
   "source": [
    "#printing slope and coefficient\n",
    "print(b1,b0)\n",
    "max_x=np.max(X)+1\n",
    "min_x=np.min(X)-1\n",
    "print(max_x,min_x)\n",
    "x=np.linspace(min_x,max_x,100)\n",
    "y=b0+b1*x\n",
    "\n",
    "#plotting the linear regression line and the actual data points\n",
    "plt.plot(x,y,color='#58b970',label='Regression line')\n",
    "plt.scatter(X,Y,c='#ef5423',label='Scatter Plot')\n",
    "plt.legend()\n",
    "plt.show()"
   ]
  },
  {
   "cell_type": "markdown",
   "metadata": {},
   "source": [
    "- If the values are near 0.5, for a given temperature there is 50 percent probability that a fire would happen."
   ]
  },
  {
   "cell_type": "code",
   "execution_count": 37,
   "metadata": {},
   "outputs": [
    {
     "data": {
      "text/plain": [
       "0.5001292398500806"
      ]
     },
     "execution_count": 37,
     "metadata": {},
     "output_type": "execute_result"
    }
   ],
   "source": [
    "sigmoid(0.0005169594118355848)"
   ]
  }
 ],
 "metadata": {
  "kernelspec": {
   "display_name": "Python 3",
   "language": "python",
   "name": "python3"
  },
  "language_info": {
   "codemirror_mode": {
    "name": "ipython",
    "version": 3
   },
   "file_extension": ".py",
   "mimetype": "text/x-python",
   "name": "python",
   "nbconvert_exporter": "python",
   "pygments_lexer": "ipython3",
   "version": "3.6.5"
  }
 },
 "nbformat": 4,
 "nbformat_minor": 2
}
