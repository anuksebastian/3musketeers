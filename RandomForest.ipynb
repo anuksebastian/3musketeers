{
 "cells": [
  {
   "cell_type": "markdown",
   "metadata": {},
   "source": [
    "# Random Forest Classifier \n",
    "\n",
    "## Team: 3 Musketeers\n",
    "\n",
    "##  Sudent Names:\n",
    "\n",
    "* Anu Sebastian - 012496276\n",
    "* Ravali Nagabandi - 011530454\n",
    "* Saloni Sharad Bhalerao - 012466623\n",
    "\n",
    "##    Github: https://github.com/anuksebastian/3musketeers\n",
    "\n",
    "##    Team Contribution:\n",
    "\n",
    "1.  Data pre-processing - Anu, Saloni\n",
    "2.   Training the model - Ravali, Saloni\n",
    "3.   Evaluating the model - Ravali, Anu\n",
    "\n",
    "###    Business Objective:\n",
    "\n",
    "To analyze the dataset for forest fires and to compare the predictions got using decision tree classifier and random forest classifier\n"
   ]
  },
  {
   "cell_type": "markdown",
   "metadata": {},
   "source": [
    "### Part-1 : Decision tree for predicting forest fires -recap\n"
   ]
  },
  {
   "cell_type": "code",
   "execution_count": 1,
   "metadata": {},
   "outputs": [
    {
     "data": {
      "text/html": [
       "<div>\n",
       "<style scoped>\n",
       "    .dataframe tbody tr th:only-of-type {\n",
       "        vertical-align: middle;\n",
       "    }\n",
       "\n",
       "    .dataframe tbody tr th {\n",
       "        vertical-align: top;\n",
       "    }\n",
       "\n",
       "    .dataframe thead th {\n",
       "        text-align: right;\n",
       "    }\n",
       "</style>\n",
       "<table border=\"1\" class=\"dataframe\">\n",
       "  <thead>\n",
       "    <tr style=\"text-align: right;\">\n",
       "      <th></th>\n",
       "      <th>X</th>\n",
       "      <th>Y</th>\n",
       "      <th>month</th>\n",
       "      <th>day</th>\n",
       "      <th>FFMC</th>\n",
       "      <th>DMC</th>\n",
       "      <th>DC</th>\n",
       "      <th>ISI</th>\n",
       "      <th>temp</th>\n",
       "      <th>RH</th>\n",
       "      <th>wind</th>\n",
       "      <th>rain</th>\n",
       "      <th>area</th>\n",
       "      <th>category</th>\n",
       "    </tr>\n",
       "  </thead>\n",
       "  <tbody>\n",
       "    <tr>\n",
       "      <th>280</th>\n",
       "      <td>4</td>\n",
       "      <td>6</td>\n",
       "      <td>dec</td>\n",
       "      <td>fri</td>\n",
       "      <td>84.7</td>\n",
       "      <td>26.7</td>\n",
       "      <td>352.6</td>\n",
       "      <td>4.1</td>\n",
       "      <td>2.2</td>\n",
       "      <td>59</td>\n",
       "      <td>4.9</td>\n",
       "      <td>0.0</td>\n",
       "      <td>9.27</td>\n",
       "      <td>0</td>\n",
       "    </tr>\n",
       "    <tr>\n",
       "      <th>282</th>\n",
       "      <td>6</td>\n",
       "      <td>3</td>\n",
       "      <td>feb</td>\n",
       "      <td>sun</td>\n",
       "      <td>84.9</td>\n",
       "      <td>27.5</td>\n",
       "      <td>353.5</td>\n",
       "      <td>3.4</td>\n",
       "      <td>4.2</td>\n",
       "      <td>51</td>\n",
       "      <td>4.0</td>\n",
       "      <td>0.0</td>\n",
       "      <td>0.00</td>\n",
       "      <td>0</td>\n",
       "    </tr>\n",
       "    <tr>\n",
       "      <th>279</th>\n",
       "      <td>4</td>\n",
       "      <td>4</td>\n",
       "      <td>dec</td>\n",
       "      <td>mon</td>\n",
       "      <td>85.4</td>\n",
       "      <td>25.4</td>\n",
       "      <td>349.7</td>\n",
       "      <td>2.6</td>\n",
       "      <td>4.6</td>\n",
       "      <td>21</td>\n",
       "      <td>8.5</td>\n",
       "      <td>0.0</td>\n",
       "      <td>9.77</td>\n",
       "      <td>0</td>\n",
       "    </tr>\n",
       "    <tr>\n",
       "      <th>278</th>\n",
       "      <td>4</td>\n",
       "      <td>4</td>\n",
       "      <td>dec</td>\n",
       "      <td>mon</td>\n",
       "      <td>85.4</td>\n",
       "      <td>25.4</td>\n",
       "      <td>349.7</td>\n",
       "      <td>2.6</td>\n",
       "      <td>4.6</td>\n",
       "      <td>21</td>\n",
       "      <td>8.5</td>\n",
       "      <td>0.0</td>\n",
       "      <td>22.03</td>\n",
       "      <td>1</td>\n",
       "    </tr>\n",
       "    <tr>\n",
       "      <th>277</th>\n",
       "      <td>3</td>\n",
       "      <td>4</td>\n",
       "      <td>dec</td>\n",
       "      <td>mon</td>\n",
       "      <td>85.4</td>\n",
       "      <td>25.4</td>\n",
       "      <td>349.7</td>\n",
       "      <td>2.6</td>\n",
       "      <td>4.6</td>\n",
       "      <td>21</td>\n",
       "      <td>8.5</td>\n",
       "      <td>0.0</td>\n",
       "      <td>10.73</td>\n",
       "      <td>1</td>\n",
       "    </tr>\n",
       "  </tbody>\n",
       "</table>\n",
       "</div>"
      ],
      "text/plain": [
       "     X  Y month  day  FFMC   DMC     DC  ISI  temp  RH  wind  rain   area  \\\n",
       "280  4  6   dec  fri  84.7  26.7  352.6  4.1   2.2  59   4.9   0.0   9.27   \n",
       "282  6  3   feb  sun  84.9  27.5  353.5  3.4   4.2  51   4.0   0.0   0.00   \n",
       "279  4  4   dec  mon  85.4  25.4  349.7  2.6   4.6  21   8.5   0.0   9.77   \n",
       "278  4  4   dec  mon  85.4  25.4  349.7  2.6   4.6  21   8.5   0.0  22.03   \n",
       "277  3  4   dec  mon  85.4  25.4  349.7  2.6   4.6  21   8.5   0.0  10.73   \n",
       "\n",
       "     category  \n",
       "280         0  \n",
       "282         0  \n",
       "279         0  \n",
       "278         1  \n",
       "277         1  "
      ]
     },
     "execution_count": 1,
     "metadata": {},
     "output_type": "execute_result"
    }
   ],
   "source": [
    "import pandas as pd\n",
    "col_names = ['X','Y','month','day','FFMC','DMC','DC','ISI','temp','RH','wind','rain','area','category']\n",
    "fire = pd.read_csv('C:/Fall2018/ML/datasets/forestfires_0918.csv')\n",
    "fire.sort_values('temp', inplace=True)\n",
    "fire.head()"
   ]
  },
  {
   "cell_type": "code",
   "execution_count": 2,
   "metadata": {},
   "outputs": [],
   "source": [
    "fires_attributes = fire.columns.values.tolist()\n",
    "number_of_columns = len(fires_attributes)\n",
    "# Data preperation - Convert month and day from string values to numerical values\n",
    "months_table = ['jan', 'feb', 'mar', 'apr', 'may', 'jun', \n",
    "                'jul', 'aug', 'sep', 'oct', 'nov', 'dec']\n",
    "days_table =   ['sun', 'mon', 'tue', 'wed', 'thu', 'fri', 'sat']\n",
    "\n",
    "fire['month'] = [months_table.index(month) for month in fire['month'] ]\n",
    "fire['day'] =   [days_table.index(day)     for day   in fire['day']   ]\n",
    "\n",
    "fire['X'] -= 1\n",
    "fire['Y'] -= 2\n",
    "\n",
    "fire.head()\n",
    "# Excluding row headers\n",
    "for idx in list(range(4, number_of_columns - 1)):  \n",
    "    fire[fires_attributes[idx]] = fire[fires_attributes[idx]] - \\\n",
    "                                   fire[fires_attributes[idx]].mean()"
   ]
  },
  {
   "cell_type": "code",
   "execution_count": 3,
   "metadata": {},
   "outputs": [],
   "source": [
    "from sklearn.tree import DecisionTreeClassifier\n",
    "X = fire.drop(['area','category'],axis=1)\n",
    "Y = fire.loc[:, ['category']]"
   ]
  },
  {
   "cell_type": "code",
   "execution_count": 4,
   "metadata": {},
   "outputs": [],
   "source": [
    "from sklearn.model_selection import train_test_split\n",
    "\n",
    "X_train, X_test, y_train, y_test = train_test_split(X, Y, random_state=1)"
   ]
  },
  {
   "cell_type": "code",
   "execution_count": 5,
   "metadata": {},
   "outputs": [
    {
     "data": {
      "text/plain": [
       "DecisionTreeClassifier(class_weight=None, criterion='gini', max_depth=None,\n",
       "            max_features=None, max_leaf_nodes=None,\n",
       "            min_impurity_decrease=0.0, min_impurity_split=None,\n",
       "            min_samples_leaf=1, min_samples_split=2,\n",
       "            min_weight_fraction_leaf=0.0, presort=False, random_state=None,\n",
       "            splitter='best')"
      ]
     },
     "execution_count": 5,
     "metadata": {},
     "output_type": "execute_result"
    }
   ],
   "source": [
    "from sklearn import tree\n",
    "clf = tree.DecisionTreeClassifier()\n",
    "clf"
   ]
  },
  {
   "cell_type": "code",
   "execution_count": 6,
   "metadata": {},
   "outputs": [
    {
     "data": {
      "text/plain": [
       "DecisionTreeClassifier(class_weight=None, criterion='gini', max_depth=None,\n",
       "            max_features=None, max_leaf_nodes=None,\n",
       "            min_impurity_decrease=0.0, min_impurity_split=None,\n",
       "            min_samples_leaf=1, min_samples_split=2,\n",
       "            min_weight_fraction_leaf=0.0, presort=False, random_state=None,\n",
       "            splitter='best')"
      ]
     },
     "execution_count": 6,
     "metadata": {},
     "output_type": "execute_result"
    }
   ],
   "source": [
    "clf.fit(X_train, y_train)"
   ]
  },
  {
   "cell_type": "markdown",
   "metadata": {},
   "source": [
    "### Accuracy Score using Decision Tree Classifier for predicting forest fires "
   ]
  },
  {
   "cell_type": "code",
   "execution_count": 7,
   "metadata": {},
   "outputs": [
    {
     "data": {
      "text/plain": [
       "0.7307692307692307"
      ]
     },
     "execution_count": 7,
     "metadata": {},
     "output_type": "execute_result"
    }
   ],
   "source": [
    "y_predict = clf.predict(X_test)\n",
    "\n",
    "from sklearn.metrics import accuracy_score\n",
    "\n",
    "accuracy_score(y_test, y_predict)"
   ]
  },
  {
   "cell_type": "markdown",
   "metadata": {},
   "source": [
    "### Part 2 Using Random Forest Classifier"
   ]
  },
  {
   "cell_type": "code",
   "execution_count": 8,
   "metadata": {},
   "outputs": [
    {
     "data": {
      "text/html": [
       "<div>\n",
       "<style scoped>\n",
       "    .dataframe tbody tr th:only-of-type {\n",
       "        vertical-align: middle;\n",
       "    }\n",
       "\n",
       "    .dataframe tbody tr th {\n",
       "        vertical-align: top;\n",
       "    }\n",
       "\n",
       "    .dataframe thead th {\n",
       "        text-align: right;\n",
       "    }\n",
       "</style>\n",
       "<table border=\"1\" class=\"dataframe\">\n",
       "  <thead>\n",
       "    <tr style=\"text-align: right;\">\n",
       "      <th></th>\n",
       "      <th>X</th>\n",
       "      <th>Y</th>\n",
       "      <th>month</th>\n",
       "      <th>day</th>\n",
       "      <th>FFMC</th>\n",
       "      <th>DMC</th>\n",
       "      <th>DC</th>\n",
       "      <th>ISI</th>\n",
       "      <th>temp</th>\n",
       "      <th>RH</th>\n",
       "      <th>wind</th>\n",
       "      <th>rain</th>\n",
       "      <th>area</th>\n",
       "      <th>category</th>\n",
       "    </tr>\n",
       "  </thead>\n",
       "  <tbody>\n",
       "    <tr>\n",
       "      <th>280</th>\n",
       "      <td>4</td>\n",
       "      <td>6</td>\n",
       "      <td>dec</td>\n",
       "      <td>fri</td>\n",
       "      <td>84.7</td>\n",
       "      <td>26.7</td>\n",
       "      <td>352.6</td>\n",
       "      <td>4.1</td>\n",
       "      <td>2.2</td>\n",
       "      <td>59</td>\n",
       "      <td>4.9</td>\n",
       "      <td>0.0</td>\n",
       "      <td>9.27</td>\n",
       "      <td>0</td>\n",
       "    </tr>\n",
       "    <tr>\n",
       "      <th>282</th>\n",
       "      <td>6</td>\n",
       "      <td>3</td>\n",
       "      <td>feb</td>\n",
       "      <td>sun</td>\n",
       "      <td>84.9</td>\n",
       "      <td>27.5</td>\n",
       "      <td>353.5</td>\n",
       "      <td>3.4</td>\n",
       "      <td>4.2</td>\n",
       "      <td>51</td>\n",
       "      <td>4.0</td>\n",
       "      <td>0.0</td>\n",
       "      <td>0.00</td>\n",
       "      <td>0</td>\n",
       "    </tr>\n",
       "    <tr>\n",
       "      <th>279</th>\n",
       "      <td>4</td>\n",
       "      <td>4</td>\n",
       "      <td>dec</td>\n",
       "      <td>mon</td>\n",
       "      <td>85.4</td>\n",
       "      <td>25.4</td>\n",
       "      <td>349.7</td>\n",
       "      <td>2.6</td>\n",
       "      <td>4.6</td>\n",
       "      <td>21</td>\n",
       "      <td>8.5</td>\n",
       "      <td>0.0</td>\n",
       "      <td>9.77</td>\n",
       "      <td>0</td>\n",
       "    </tr>\n",
       "    <tr>\n",
       "      <th>278</th>\n",
       "      <td>4</td>\n",
       "      <td>4</td>\n",
       "      <td>dec</td>\n",
       "      <td>mon</td>\n",
       "      <td>85.4</td>\n",
       "      <td>25.4</td>\n",
       "      <td>349.7</td>\n",
       "      <td>2.6</td>\n",
       "      <td>4.6</td>\n",
       "      <td>21</td>\n",
       "      <td>8.5</td>\n",
       "      <td>0.0</td>\n",
       "      <td>22.03</td>\n",
       "      <td>1</td>\n",
       "    </tr>\n",
       "    <tr>\n",
       "      <th>277</th>\n",
       "      <td>3</td>\n",
       "      <td>4</td>\n",
       "      <td>dec</td>\n",
       "      <td>mon</td>\n",
       "      <td>85.4</td>\n",
       "      <td>25.4</td>\n",
       "      <td>349.7</td>\n",
       "      <td>2.6</td>\n",
       "      <td>4.6</td>\n",
       "      <td>21</td>\n",
       "      <td>8.5</td>\n",
       "      <td>0.0</td>\n",
       "      <td>10.73</td>\n",
       "      <td>1</td>\n",
       "    </tr>\n",
       "  </tbody>\n",
       "</table>\n",
       "</div>"
      ],
      "text/plain": [
       "     X  Y month  day  FFMC   DMC     DC  ISI  temp  RH  wind  rain   area  \\\n",
       "280  4  6   dec  fri  84.7  26.7  352.6  4.1   2.2  59   4.9   0.0   9.27   \n",
       "282  6  3   feb  sun  84.9  27.5  353.5  3.4   4.2  51   4.0   0.0   0.00   \n",
       "279  4  4   dec  mon  85.4  25.4  349.7  2.6   4.6  21   8.5   0.0   9.77   \n",
       "278  4  4   dec  mon  85.4  25.4  349.7  2.6   4.6  21   8.5   0.0  22.03   \n",
       "277  3  4   dec  mon  85.4  25.4  349.7  2.6   4.6  21   8.5   0.0  10.73   \n",
       "\n",
       "     category  \n",
       "280         0  \n",
       "282         0  \n",
       "279         0  \n",
       "278         1  \n",
       "277         1  "
      ]
     },
     "execution_count": 8,
     "metadata": {},
     "output_type": "execute_result"
    }
   ],
   "source": [
    "import pandas as pd\n",
    "col_names = ['X','Y','month','day','FFMC','DMC','DC','ISI','temp','RH','wind','rain','area','category']\n",
    "fire = pd.read_csv('C:/Fall2018/ML/datasets/forestfires_0918.csv')\n",
    "fire.sort_values('temp', inplace=True)\n",
    "fire.head()"
   ]
  },
  {
   "cell_type": "code",
   "execution_count": 9,
   "metadata": {},
   "outputs": [],
   "source": [
    "fires_attributes = fire.columns.values.tolist()\n",
    "number_of_columns = len(fires_attributes)\n",
    "# Data preperation - Convert month and day from string values to numerical values\n",
    "months_table = ['jan', 'feb', 'mar', 'apr', 'may', 'jun', \n",
    "                'jul', 'aug', 'sep', 'oct', 'nov', 'dec']\n",
    "days_table =   ['sun', 'mon', 'tue', 'wed', 'thu', 'fri', 'sat']\n",
    "\n",
    "fire['month'] = [months_table.index(month) for month in fire['month'] ]\n",
    "fire['day'] =   [days_table.index(day)     for day   in fire['day']   ]\n",
    "\n",
    "fire['X'] -= 1\n",
    "fire['Y'] -= 2\n",
    "\n",
    "fire.head()\n",
    "# Excluding row headers\n",
    "for idx in list(range(4, number_of_columns - 1)):  \n",
    "    fire[fires_attributes[idx]] = fire[fires_attributes[idx]] - \\\n",
    "                                   fire[fires_attributes[idx]].mean()"
   ]
  },
  {
   "cell_type": "code",
   "execution_count": 10,
   "metadata": {},
   "outputs": [
    {
     "name": "stdout",
     "output_type": "stream",
     "text": [
      "     X  Y  month  day      FFMC       DMC          DC       ISI       temp  \\\n",
      "280  3  4     11    5 -5.944681 -84.17234 -195.340039 -4.921663 -16.689168   \n",
      "282  5  1      1    0 -5.744681 -83.37234 -194.440039 -5.621663 -14.689168   \n",
      "279  3  2     11    1 -5.244681 -85.47234 -198.240039 -6.421663 -14.289168   \n",
      "278  3  2     11    1 -5.244681 -85.47234 -198.240039 -6.421663 -14.289168   \n",
      "277  2  2     11    1 -5.244681 -85.47234 -198.240039 -6.421663 -14.289168   \n",
      "\n",
      "            RH      wind      rain       area  category  \n",
      "280  14.711799  0.882398 -0.021663  -3.577292         0  \n",
      "282   6.711799 -0.017602 -0.021663 -12.847292         0  \n",
      "279 -23.288201  4.482398 -0.021663  -3.077292         0  \n",
      "278 -23.288201  4.482398 -0.021663   9.182708         1  \n",
      "277 -23.288201  4.482398 -0.021663  -2.117292         1  \n"
     ]
    }
   ],
   "source": [
    "print(fire.head())"
   ]
  },
  {
   "cell_type": "code",
   "execution_count": 11,
   "metadata": {},
   "outputs": [],
   "source": [
    "from sklearn.ensemble import RandomForestClassifier"
   ]
  },
  {
   "cell_type": "code",
   "execution_count": 12,
   "metadata": {},
   "outputs": [],
   "source": [
    "X = fire.drop(['area','category'],axis=1)\n",
    "Y = fire.loc[:, ['category']]"
   ]
  },
  {
   "cell_type": "code",
   "execution_count": 13,
   "metadata": {},
   "outputs": [],
   "source": [
    "rnc = RandomForestClassifier(n_estimators = 200)"
   ]
  },
  {
   "cell_type": "code",
   "execution_count": 14,
   "metadata": {},
   "outputs": [],
   "source": [
    "from sklearn.model_selection import train_test_split\n",
    "\n",
    "X_train, X_test, y_train, y_test = train_test_split(X, Y, test_size=0.3, random_state=101)"
   ]
  },
  {
   "cell_type": "code",
   "execution_count": 15,
   "metadata": {},
   "outputs": [
    {
     "name": "stderr",
     "output_type": "stream",
     "text": [
      "C:\\Users\\anuks\\Anaconda3\\lib\\site-packages\\ipykernel_launcher.py:1: DataConversionWarning: A column-vector y was passed when a 1d array was expected. Please change the shape of y to (n_samples,), for example using ravel().\n",
      "  \"\"\"Entry point for launching an IPython kernel.\n"
     ]
    },
    {
     "data": {
      "text/plain": [
       "RandomForestClassifier(bootstrap=True, class_weight=None, criterion='gini',\n",
       "            max_depth=None, max_features='auto', max_leaf_nodes=None,\n",
       "            min_impurity_decrease=0.0, min_impurity_split=None,\n",
       "            min_samples_leaf=1, min_samples_split=2,\n",
       "            min_weight_fraction_leaf=0.0, n_estimators=200, n_jobs=1,\n",
       "            oob_score=False, random_state=None, verbose=0,\n",
       "            warm_start=False)"
      ]
     },
     "execution_count": 15,
     "metadata": {},
     "output_type": "execute_result"
    }
   ],
   "source": [
    "rnc.fit(X_train, y_train)"
   ]
  },
  {
   "cell_type": "code",
   "execution_count": 16,
   "metadata": {},
   "outputs": [],
   "source": [
    "pred = rnc.predict(X_test)"
   ]
  },
  {
   "cell_type": "markdown",
   "metadata": {},
   "source": [
    "### Accuracy Score using Random Forest Classifier"
   ]
  },
  {
   "cell_type": "code",
   "execution_count": 17,
   "metadata": {},
   "outputs": [
    {
     "data": {
      "text/plain": [
       "0.9230769230769231"
      ]
     },
     "execution_count": 17,
     "metadata": {},
     "output_type": "execute_result"
    }
   ],
   "source": [
    "y_predict = clf.predict(X_test)\n",
    "\n",
    "from sklearn.metrics import accuracy_score\n",
    "\n",
    "accuracy_score(y_test, y_predict)"
   ]
  },
  {
   "cell_type": "markdown",
   "metadata": {},
   "source": [
    "### Conclusion : Random Forest Classifier is better suited for predicting forest fires than decision tree classifier."
   ]
  }
 ],
 "metadata": {
  "kernelspec": {
   "display_name": "Python 3",
   "language": "python",
   "name": "python3"
  },
  "language_info": {
   "codemirror_mode": {
    "name": "ipython",
    "version": 3
   },
   "file_extension": ".py",
   "mimetype": "text/x-python",
   "name": "python",
   "nbconvert_exporter": "python",
   "pygments_lexer": "ipython3",
   "version": "3.6.5"
  }
 },
 "nbformat": 4,
 "nbformat_minor": 2
}
